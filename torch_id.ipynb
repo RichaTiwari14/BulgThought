{
  "nbformat": 4,
  "nbformat_minor": 0,
  "metadata": {
    "colab": {
      "provenance": [],
      "gpuType": "T4",
      "authorship_tag": "ABX9TyODfnOKJbxCor9OZNAVOfVj",
      "include_colab_link": true
    },
    "kernelspec": {
      "name": "python3",
      "display_name": "Python 3"
    },
    "language_info": {
      "name": "python"
    },
    "accelerator": "GPU"
  },
  "cells": [
    {
      "cell_type": "markdown",
      "metadata": {
        "id": "view-in-github",
        "colab_type": "text"
      },
      "source": [
        "<a href=\"https://colab.research.google.com/github/RichaTiwari14/BulgThought/blob/main/torch_id.ipynb\" target=\"_parent\"><img src=\"https://colab.research.google.com/assets/colab-badge.svg\" alt=\"Open In Colab\"/></a>"
      ]
    },
    {
      "cell_type": "code",
      "execution_count": null,
      "metadata": {
        "colab": {
          "base_uri": "https://localhost:8080/"
        },
        "id": "cDiMJ2_3geY0",
        "outputId": "95088b16-a6b9-4cee-fb64-7c21f7d8a176"
      },
      "outputs": [
        {
          "output_type": "stream",
          "name": "stdout",
          "text": [
            "tensor([[1.0000, 0.6500, 0.0921],\n",
            "        [0.2368, 0.9066, 0.2386]])\n",
            "139125861367248\n",
            "139125861367248\n",
            "tensor([[0.0000, 0.6500, 0.0921],\n",
            "        [0.2368, 0.9066, 0.2386]])\n",
            "tensor([[1.0000, 0.6500, 0.0921],\n",
            "        [0.2368, 0.9066, 0.2386]])\n"
          ]
        }
      ],
      "source": [
        "import torch\n",
        "import torch as nn\n",
        "a=torch.rand(2,3)\n",
        "b=a\n",
        "a[0][0]=1\n",
        "print(b)\n",
        "print(id(a)) # id() :to get the address of tensor\n",
        "print(id(b))\n",
        "\n",
        "#now since we can see that a and b both are pointing to the same address. thi is due to the assignment operator\n",
        "#to avoid this and also to clone the tensor in another we can use clone()\n",
        "\n",
        "b=a.clone()\n",
        "id(b) #now the address of b is different from a\n",
        " #and now if we will modify a there will be no effect on b\n",
        "#eg.\n",
        "a[0][0]=0\n",
        "print(a)\n",
        "print(b)"
      ]
    },
    {
      "cell_type": "code",
      "source": [
        "torch.cuda.is_available()"
      ],
      "metadata": {
        "colab": {
          "base_uri": "https://localhost:8080/"
        },
        "id": "sjJytMZila7L",
        "outputId": "a9adcf11-5cf9-410c-ab70-2a74b917631e"
      },
      "execution_count": null,
      "outputs": [
        {
          "output_type": "execute_result",
          "data": {
            "text/plain": [
              "False"
            ]
          },
          "metadata": {},
          "execution_count": 12
        }
      ]
    }
  ]
}